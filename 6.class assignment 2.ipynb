{
 "cells": [
  {
   "cell_type": "code",
   "execution_count": 5,
   "id": "0388c24f-821d-43a3-ac2b-52f67415b316",
   "metadata": {},
   "outputs": [],
   "source": [
    "from assign import assignment1"
   ]
  },
  {
   "cell_type": "code",
   "execution_count": 6,
   "id": "c5147f28-2e8b-49a4-a495-4ac3b685b9a0",
   "metadata": {},
   "outputs": [
    {
     "name": "stdout",
     "output_type": "stream",
     "text": [
      "sub fields in AI are:\n",
      "Machine learning\n",
      "Neural networks\n",
      "Vision\n",
      "Robotics\n",
      "Speech Processing\n",
      "Natural Language Processing\n"
     ]
    }
   ],
   "source": [
    "assignment1.subfields()"
   ]
  },
  {
   "cell_type": "code",
   "execution_count": 7,
   "id": "bcdf662c-4ad0-48dd-ae07-f5d30911eb36",
   "metadata": {},
   "outputs": [
    {
     "name": "stdin",
     "output_type": "stream",
     "text": [
      "Enter a number : 5432\n"
     ]
    },
    {
     "name": "stdout",
     "output_type": "stream",
     "text": [
      "5432 is even number\n"
     ]
    }
   ],
   "source": [
    "assignment1.oddEven()"
   ]
  },
  {
   "cell_type": "code",
   "execution_count": 8,
   "id": "5f920e58-2ff2-4d49-97e1-4229a9a06212",
   "metadata": {},
   "outputs": [
    {
     "name": "stdin",
     "output_type": "stream",
     "text": [
      "your gender: male\n",
      "your age: 20\n"
     ]
    },
    {
     "name": "stdout",
     "output_type": "stream",
     "text": [
      "not eligible\n"
     ]
    }
   ],
   "source": [
    "assignment1.elegible()"
   ]
  },
  {
   "cell_type": "code",
   "execution_count": 19,
   "id": "d655c547-fd0d-42fc-94dc-380345316afb",
   "metadata": {},
   "outputs": [
    {
     "name": "stdin",
     "output_type": "stream",
     "text": [
      "subject1= 98\n",
      "subject2= 87\n",
      "subject3= 95\n",
      "subject4= 95\n",
      "subject5= 93\n"
     ]
    },
    {
     "name": "stdout",
     "output_type": "stream",
     "text": [
      "total 468\n",
      "percentage 93.60000000000001\n"
     ]
    }
   ],
   "source": [
    "assignment1.percentage()"
   ]
  },
  {
   "cell_type": "code",
   "execution_count": 20,
   "id": "4de2e957-4b53-4389-97ab-0bff5650fcc4",
   "metadata": {},
   "outputs": [
    {
     "name": "stdin",
     "output_type": "stream",
     "text": [
      "Height: 32\n",
      "Breadth: 34\n"
     ]
    },
    {
     "name": "stdout",
     "output_type": "stream",
     "text": [
      "Area formula:(Height*Breadth)/2\n",
      "Area of Triangle: 544.0\n"
     ]
    },
    {
     "name": "stdin",
     "output_type": "stream",
     "text": [
      "Height1: 2\n",
      "Height2: 4\n",
      "Breadth: 4\n"
     ]
    },
    {
     "name": "stdout",
     "output_type": "stream",
     "text": [
      "perimeter formula:Height1+Height2+Breadth\n",
      "perimeter of triangle: 10\n"
     ]
    }
   ],
   "source": [
    "assignment1.triangle()"
   ]
  },
  {
   "cell_type": "code",
   "execution_count": null,
   "id": "10c0aa60-777b-4d2b-ba09-164d554b8d10",
   "metadata": {},
   "outputs": [],
   "source": []
  }
 ],
 "metadata": {
  "kernelspec": {
   "display_name": "Python 3 (ipykernel)",
   "language": "python",
   "name": "python3"
  },
  "language_info": {
   "codemirror_mode": {
    "name": "ipython",
    "version": 3
   },
   "file_extension": ".py",
   "mimetype": "text/x-python",
   "name": "python",
   "nbconvert_exporter": "python",
   "pygments_lexer": "ipython3",
   "version": "3.11.7"
  }
 },
 "nbformat": 4,
 "nbformat_minor": 5
}
