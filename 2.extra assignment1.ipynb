{
 "cells": [
  {
   "cell_type": "code",
   "execution_count": 6,
   "id": "4ef6006f-3a09-4c9e-a02a-395da39e4ff5",
   "metadata": {},
   "outputs": [
    {
     "name": "stdout",
     "output_type": "stream",
     "text": [
      "Hope AI\n"
     ]
    }
   ],
   "source": [
    "#print Statement\n",
    "print(\"Hope AI\")"
   ]
  },
  {
   "cell_type": "code",
   "execution_count": 6,
   "id": "a4271ba3-022a-45d4-90a8-125803eb40b2",
   "metadata": {},
   "outputs": [
    {
     "name": "stdin",
     "output_type": "stream",
     "text": [
      "enter your institute name?; HOPE AI\n"
     ]
    }
   ],
   "source": [
    "name=input(\"enter your institute name?;\")"
   ]
  },
  {
   "cell_type": "code",
   "execution_count": 7,
   "id": "3c6886c7-bbba-4983-ac66-3656e31fa533",
   "metadata": {},
   "outputs": [
    {
     "name": "stdin",
     "output_type": "stream",
     "text": [
      "enter your name: sakila\n",
      "enter your age: 34\n",
      "enter your school: ideal\n",
      "enter your degree: m.e\n"
     ]
    }
   ],
   "source": [
    "name=input(\"enter your name:\")\n",
    "age=int(input(\"enter your age:\"))\n",
    "school=input(\"enter your school:\")\n",
    "degree=input(\"enter your degree:\")"
   ]
  },
  {
   "cell_type": "code",
   "execution_count": 12,
   "id": "4ad694e1-ee2b-46f3-9318-11eea1914859",
   "metadata": {},
   "outputs": [
    {
     "name": "stdin",
     "output_type": "stream",
     "text": [
      "a=: 43\n",
      "b=: 34\n"
     ]
    },
    {
     "name": "stdout",
     "output_type": "stream",
     "text": [
      "add 77\n"
     ]
    }
   ],
   "source": [
    "#addition\n",
    "number1=int(input(\"a=:\"))\n",
    "number2=int(input(\"b=:\"))\n",
    "add=number1+number2\n",
    "print(\"add\",add)"
   ]
  },
  {
   "cell_type": "code",
   "execution_count": 11,
   "id": "4c09331b-e9bf-47ec-8229-6d379178d75f",
   "metadata": {},
   "outputs": [
    {
     "name": "stdin",
     "output_type": "stream",
     "text": [
      "a=: 43\n",
      "b=: 34\n"
     ]
    },
    {
     "name": "stdout",
     "output_type": "stream",
     "text": [
      "sub= 9\n"
     ]
    }
   ],
   "source": [
    "#Subtraction\n",
    "number1=int(input(\"a=:\"))\n",
    "number2=int(input(\"b=:\"))\n",
    "sub=number1-number2\n",
    "print(\"sub=\",sub)"
   ]
  },
  {
   "cell_type": "code",
   "execution_count": 13,
   "id": "558ce20a-0185-46a4-ad7d-99188abb5359",
   "metadata": {},
   "outputs": [
    {
     "name": "stdin",
     "output_type": "stream",
     "text": [
      "a=: 63\n",
      "b=: 97\n"
     ]
    },
    {
     "name": "stdout",
     "output_type": "stream",
     "text": [
      "multipilication= 6111\n"
     ]
    }
   ],
   "source": [
    "#Multiplication\n",
    "number1=int(input(\"a=:\"))\n",
    "number2=int(input(\"b=:\"))\n",
    "mul=number1*number2\n",
    "print(\"multipilication=\",mul)"
   ]
  },
  {
   "cell_type": "code",
   "execution_count": 14,
   "id": "ccd97915-fb94-406f-8a1c-bd2e099a9fbc",
   "metadata": {},
   "outputs": [
    {
     "name": "stdin",
     "output_type": "stream",
     "text": [
      "a=: 76\n",
      "b=: 31\n"
     ]
    },
    {
     "name": "stdout",
     "output_type": "stream",
     "text": [
      "float div= 2.4516129032258065\n"
     ]
    }
   ],
   "source": [
    "#Division\n",
    "number1=int(input(\"a=:\"))\n",
    "number2=int(input(\"b=:\"))\n",
    "div=number1/number2\n",
    "print(\"float div=\",div)"
   ]
  },
  {
   "cell_type": "code",
   "execution_count": 15,
   "id": "9b64a6a6-785a-4510-9276-aca474c89d03",
   "metadata": {},
   "outputs": [
    {
     "name": "stdin",
     "output_type": "stream",
     "text": [
      "a=: 76\n",
      "b=: 31\n"
     ]
    },
    {
     "name": "stdout",
     "output_type": "stream",
     "text": [
      "float div= 2\n"
     ]
    }
   ],
   "source": [
    "#floor Division\n",
    "number1=int(input(\"a=:\"))\n",
    "number2=int(input(\"b=:\"))\n",
    "div=number1//number2\n",
    "print(\"float div=\",div)"
   ]
  },
  {
   "cell_type": "code",
   "execution_count": 16,
   "id": "3c3e5c9c-df46-4823-ace2-bb74106f9b9f",
   "metadata": {},
   "outputs": [
    {
     "name": "stdin",
     "output_type": "stream",
     "text": [
      "a=: 76\n",
      "b=: 31\n"
     ]
    },
    {
     "name": "stdout",
     "output_type": "stream",
     "text": [
      "modulo= 14\n"
     ]
    }
   ],
   "source": [
    "#Modulo\n",
    "number1=int(input(\"a=:\"))\n",
    "number2=int(input(\"b=:\"))\n",
    "modulo=number1%number2\n",
    "print(\"modulo=\",modulo)"
   ]
  },
  {
   "cell_type": "code",
   "execution_count": 18,
   "id": "1ce85cba-c0f2-4cf2-be77-f5c4331cdf69",
   "metadata": {},
   "outputs": [
    {
     "name": "stdin",
     "output_type": "stream",
     "text": [
      "a=: 4\n",
      "b=: 4\n"
     ]
    },
    {
     "name": "stdout",
     "output_type": "stream",
     "text": [
      "power= 256\n"
     ]
    }
   ],
   "source": [
    "#power\n",
    "number1=int(input(\"a=:\"))\n",
    "number2=int(input(\"b=:\"))\n",
    "power=number1**number2\n",
    "print(\"power=\",power)"
   ]
  },
  {
   "cell_type": "code",
   "execution_count": null,
   "id": "aafb907e-c6b2-4edd-9204-744f179098f8",
   "metadata": {},
   "outputs": [],
   "source": []
  }
 ],
 "metadata": {
  "kernelspec": {
   "display_name": "Python 3 (ipykernel)",
   "language": "python",
   "name": "python3"
  },
  "language_info": {
   "codemirror_mode": {
    "name": "ipython",
    "version": 3
   },
   "file_extension": ".py",
   "mimetype": "text/x-python",
   "name": "python",
   "nbconvert_exporter": "python",
   "pygments_lexer": "ipython3",
   "version": "3.11.7"
  }
 },
 "nbformat": 4,
 "nbformat_minor": 5
}
