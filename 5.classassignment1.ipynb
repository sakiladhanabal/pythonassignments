{
 "cells": [
  {
   "cell_type": "code",
   "execution_count": 1,
   "id": "ad552919-5307-499e-a14e-fb9cdfd693f0",
   "metadata": {},
   "outputs": [],
   "source": [
    "class subfieldsInAI():\n",
    "    def subfields():\n",
    "        print(\"sub fields in AI are:\")\n",
    "        List=['Machine learning','Neural networks','Vision','Robotics','Speech Processing','Natural Language Processing']\n",
    "        for temp in List:\n",
    "              print(temp)"
   ]
  },
  {
   "cell_type": "code",
   "execution_count": 2,
   "id": "46ca2cc7-c6a4-41d2-b1b9-630eb85cde82",
   "metadata": {},
   "outputs": [
    {
     "name": "stdout",
     "output_type": "stream",
     "text": [
      "sub fields in AI are:\n",
      "Machine learning\n",
      "Neural networks\n",
      "Vision\n",
      "Robotics\n",
      "Speech Processing\n",
      "Natural Language Processing\n"
     ]
    }
   ],
   "source": [
    "subfieldsInAI.subfields()"
   ]
  },
  {
   "cell_type": "code",
   "execution_count": 1,
   "id": "3955547a-8b79-4bfd-b315-b1ae4d7db128",
   "metadata": {},
   "outputs": [],
   "source": [
    "class oddEven():\n",
    "  def oddEven():\n",
    "    num=int(input(\"Enter a number:\"))\n",
    "    if(num%2==0):\n",
    "        print(num,\"is even number\")\n",
    "    else:\n",
    "        print(\"odd number\")      "
   ]
  },
  {
   "cell_type": "code",
   "execution_count": 2,
   "id": "8cfc6382-eb18-49fe-80ee-b582673b534e",
   "metadata": {},
   "outputs": [
    {
     "name": "stdin",
     "output_type": "stream",
     "text": [
      "Enter a number: 5432\n"
     ]
    },
    {
     "name": "stdout",
     "output_type": "stream",
     "text": [
      "5432 is even number\n"
     ]
    }
   ],
   "source": [
    "oddEven.oddEven()"
   ]
  },
  {
   "cell_type": "code",
   "execution_count": 3,
   "id": "fe349d03-c7f1-4d16-967b-cda52d08aae9",
   "metadata": {},
   "outputs": [],
   "source": [
    "class ElegiblityForMarriage():\n",
    "  def elegible():\n",
    "    gender=input(\"your gender:\")\n",
    "    age=int(input(\"your age\"))\n",
    "    if(gender=='male'):\n",
    "        if(age>=21):\n",
    "            print('eligible')\n",
    "        else:\n",
    "            print('not eligible')\n",
    "    elif(gender=='female'):\n",
    "        if(age<=18):\n",
    "             print('eligible')\n",
    "        else:\n",
    "             print('not eligible')\n",
    "    else:\n",
    "         print('invalid')"
   ]
  },
  {
   "cell_type": "code",
   "execution_count": 4,
   "id": "1ec163a4-a11c-47f1-8f35-4eec8d6c151b",
   "metadata": {},
   "outputs": [
    {
     "name": "stdin",
     "output_type": "stream",
     "text": [
      "your gender: male\n",
      "your age 20\n"
     ]
    },
    {
     "name": "stdout",
     "output_type": "stream",
     "text": [
      "not eligible\n"
     ]
    }
   ],
   "source": [
    "ElegiblityForMarriage.elegible()"
   ]
  },
  {
   "cell_type": "code",
   "execution_count": 12,
   "id": "d9bb34a4-646e-4bef-8387-5b3cee67e6f7",
   "metadata": {},
   "outputs": [],
   "source": [
    "class FindPercent():\n",
    "    def percentage():\n",
    "        subject1=int(input('subject1='))\n",
    "        subject2=int(input('subject2='))\n",
    "        subject3=int(input('subject3='))\n",
    "        subject4=int(input('subject4='))\n",
    "        subject5=int(input('subject5='))\n",
    "        total=subject1+subject2+subject3+subject4+subject5\n",
    "        print('total',total)\n",
    "        percentage=total/500*100\n",
    "        print('percentage',percentage)"
   ]
  },
  {
   "cell_type": "code",
   "execution_count": 13,
   "id": "04255f35-823e-4b1a-ac33-35a8a52d8c31",
   "metadata": {},
   "outputs": [
    {
     "name": "stdin",
     "output_type": "stream",
     "text": [
      "subject1= 98\n",
      "subject2= 87\n",
      "subject3= 95\n",
      "subject4= 95\n",
      "subject5= 93\n"
     ]
    },
    {
     "name": "stdout",
     "output_type": "stream",
     "text": [
      "total 468\n",
      "percentage 93.60000000000001\n"
     ]
    }
   ],
   "source": [
    "FindPercent.percentage()"
   ]
  },
  {
   "cell_type": "code",
   "execution_count": 14,
   "id": "bc258cc2-123f-4f08-9009-aa755d6a0f46",
   "metadata": {},
   "outputs": [],
   "source": [
    "class triangle():\n",
    "  def triangle():\n",
    "    Height=int(input('Height:'))\n",
    "    Breadth=int(input('Breadth:'))\n",
    "    areaformula=((Height*Breadth)/2)\n",
    "    print(\"Area formula:(Height*Breadth)/2\")\n",
    "    print(\"Area of Triangle:\",areaformula)\n",
    "    Height1=int(input('Height1:'))\n",
    "    Height2=int(input('Height2:'))\n",
    "    Breadth=int(input('Breadth:'))\n",
    "    formula=Height1+Height2+Breadth\n",
    "    print(\"perimeter formula:Height1+Height2+Breadth\")\n",
    "    print(\"perimeter of triangle:\",formula)"
   ]
  },
  {
   "cell_type": "code",
   "execution_count": 15,
   "id": "f59a68cd-249b-42d5-8453-90916b60ba46",
   "metadata": {},
   "outputs": [
    {
     "name": "stdin",
     "output_type": "stream",
     "text": [
      "Height: 32\n",
      "Breadth: 34\n"
     ]
    },
    {
     "name": "stdout",
     "output_type": "stream",
     "text": [
      "Area formula:(Height*Breadth)/2\n",
      "Area of Triangle: 544.0\n"
     ]
    },
    {
     "name": "stdin",
     "output_type": "stream",
     "text": [
      "Height1: 2\n",
      "Height2: 4\n",
      "Breadth: 4\n"
     ]
    },
    {
     "name": "stdout",
     "output_type": "stream",
     "text": [
      "perimeter formula:Height1+Height2+Breadth\n",
      "perimeter of triangle: 10\n"
     ]
    }
   ],
   "source": [
    "triangle.triangle()"
   ]
  },
  {
   "cell_type": "code",
   "execution_count": null,
   "id": "b7558a03-dd8b-4e0e-924b-1d83a9b5b250",
   "metadata": {},
   "outputs": [],
   "source": []
  }
 ],
 "metadata": {
  "kernelspec": {
   "display_name": "Python 3 (ipykernel)",
   "language": "python",
   "name": "python3"
  },
  "language_info": {
   "codemirror_mode": {
    "name": "ipython",
    "version": 3
   },
   "file_extension": ".py",
   "mimetype": "text/x-python",
   "name": "python",
   "nbconvert_exporter": "python",
   "pygments_lexer": "ipython3",
   "version": "3.11.7"
  }
 },
 "nbformat": 4,
 "nbformat_minor": 5
}
