{
 "cells": [
  {
   "cell_type": "code",
   "execution_count": 4,
   "id": "b9881936-6b1b-4973-a57e-5b6e2f2f5f4c",
   "metadata": {},
   "outputs": [],
   "source": [
    "def subfields():\n",
    "    print(\"sub fields in AI are:\")\n",
    "    List=['Machine learning','Neural networks','Vision','Robotics','Speech Processing','Natural Language Processing']\n",
    "    for temp in List:\n",
    "          print(temp) "
   ]
  },
  {
   "cell_type": "code",
   "execution_count": 5,
   "id": "449a4eb5-2c55-4623-8a07-43320dddb045",
   "metadata": {},
   "outputs": [
    {
     "name": "stdout",
     "output_type": "stream",
     "text": [
      "sub fields in AI are:\n",
      "Machine learning\n",
      "Neural networks\n",
      "Vision\n",
      "Robotics\n",
      "Speech Processing\n",
      "Natural Language Processing\n"
     ]
    }
   ],
   "source": [
    "subfields()"
   ]
  },
  {
   "cell_type": "code",
   "execution_count": 6,
   "id": "99f0fc91-ef85-4d52-bd04-59dfe4b45e1c",
   "metadata": {},
   "outputs": [],
   "source": [
    "def oddEven():\n",
    "    num=int(input(\"Enter a number:\"))\n",
    "    if(num%2==0):\n",
    "        print(num,\"is even number\")\n",
    "    else:\n",
    "        print(\"odd number\")"
   ]
  },
  {
   "cell_type": "code",
   "execution_count": 7,
   "id": "90a8bfbe-1dd9-4620-bad1-1d2d88331682",
   "metadata": {},
   "outputs": [
    {
     "name": "stdin",
     "output_type": "stream",
     "text": [
      "Enter a number: 5432\n"
     ]
    },
    {
     "name": "stdout",
     "output_type": "stream",
     "text": [
      "5432 is even number\n"
     ]
    }
   ],
   "source": [
    "oddEven()"
   ]
  },
  {
   "cell_type": "code",
   "execution_count": 9,
   "id": "e79ec016-2372-4b25-bffa-248f020655eb",
   "metadata": {},
   "outputs": [],
   "source": [
    "def elegible():\n",
    "    gender=input(\"your gender:\")\n",
    "    age=int(input(\"your age\"))\n",
    "    if(gender=='male'):\n",
    "        if(age>=21):\n",
    "            print('eligible')\n",
    "        else:\n",
    "            print('not eligible')\n",
    "    elif(gender=='female'):\n",
    "        if(age<=18):\n",
    "             print('eligible')\n",
    "        else:\n",
    "             print('not eligible')\n",
    "    else:\n",
    "         print('invalid')"
   ]
  },
  {
   "cell_type": "code",
   "execution_count": 10,
   "id": "285ec787-2339-4858-8ca4-62d1c0cd3f4b",
   "metadata": {},
   "outputs": [
    {
     "name": "stdin",
     "output_type": "stream",
     "text": [
      "your gender: male\n",
      "your age 20\n"
     ]
    },
    {
     "name": "stdout",
     "output_type": "stream",
     "text": [
      "not eligible\n"
     ]
    }
   ],
   "source": [
    "elegible()"
   ]
  },
  {
   "cell_type": "code",
   "execution_count": 26,
   "id": "b9268aa1-5e06-46af-9b47-1a4fd35ae8ca",
   "metadata": {},
   "outputs": [],
   "source": [
    "def percentage():\n",
    "    subject1=int(input('subject1='))\n",
    "    subject2=int(input('subject2='))\n",
    "    subject3=int(input('subject3='))\n",
    "    subject4=int(input('subject4='))\n",
    "    subject5=int(input('subject5='))\n",
    "    total=subject1+subject2+subject3+subject4+subject5\n",
    "    print('total',total)\n",
    "    percentage=total/500*100\n",
    "    print('percentage',percentage)"
   ]
  },
  {
   "cell_type": "code",
   "execution_count": 27,
   "id": "a3ed7ddb-72dd-4a1d-aa65-0766f6efd73d",
   "metadata": {},
   "outputs": [
    {
     "name": "stdin",
     "output_type": "stream",
     "text": [
      "subject1= 23\n",
      "subject2= 45\n",
      "subject3= 34\n",
      "subject4= 23\n",
      "subject5= 23\n"
     ]
    },
    {
     "name": "stdout",
     "output_type": "stream",
     "text": [
      "total 148\n",
      "percentage 29.599999999999998\n"
     ]
    }
   ],
   "source": [
    "percentage()"
   ]
  },
  {
   "cell_type": "code",
   "execution_count": 34,
   "id": "46dd1443-860c-42c0-b827-1a0c28257cd1",
   "metadata": {},
   "outputs": [],
   "source": [
    "def triangle():\n",
    "    Height=int(input('Height:'))\n",
    "    Breadth=int(input('Breadth:'))\n",
    "    areaformula=((Height*Breadth)/2)\n",
    "    print(\"Area formula:(Height*Breadth)/2\")\n",
    "    print(\"Area of Triangle:\",areaformula)\n",
    "    Height1=int(input('Height1:'))\n",
    "    Height2=int(input('Height2:'))\n",
    "    Breadth=int(input('Breadth:'))\n",
    "    formula=Height1+Height2+Breadth\n",
    "    print(\"perimeter formula:Height1+Height2+Breadth\")\n",
    "    print(\"perimeter of triangle:\",formula)"
   ]
  },
  {
   "cell_type": "code",
   "execution_count": 35,
   "id": "3d239442-bf53-4d27-bc4e-58ec244f817c",
   "metadata": {},
   "outputs": [
    {
     "name": "stdin",
     "output_type": "stream",
     "text": [
      "Height: 3\n",
      "Breadth: 4\n"
     ]
    },
    {
     "name": "stdout",
     "output_type": "stream",
     "text": [
      "Area formula:(Height*Breadth)/2\n",
      "Area of Triangle: 6.0\n"
     ]
    },
    {
     "name": "stdin",
     "output_type": "stream",
     "text": [
      "Height1: 3\n",
      "Height2: 4\n",
      "Breadth: 45\n"
     ]
    },
    {
     "name": "stdout",
     "output_type": "stream",
     "text": [
      "perimeter formula:Height1+Height2+Breadth\n",
      "perimeter of triangle: 52\n"
     ]
    }
   ],
   "source": [
    "triangle()"
   ]
  },
  {
   "cell_type": "code",
   "execution_count": null,
   "id": "110994b4-6d87-4117-a9be-a1ee38891975",
   "metadata": {},
   "outputs": [],
   "source": []
  }
 ],
 "metadata": {
  "kernelspec": {
   "display_name": "Python 3 (ipykernel)",
   "language": "python",
   "name": "python3"
  },
  "language_info": {
   "codemirror_mode": {
    "name": "ipython",
    "version": 3
   },
   "file_extension": ".py",
   "mimetype": "text/x-python",
   "name": "python",
   "nbconvert_exporter": "python",
   "pygments_lexer": "ipython3",
   "version": "3.11.7"
  }
 },
 "nbformat": 4,
 "nbformat_minor": 5
}
